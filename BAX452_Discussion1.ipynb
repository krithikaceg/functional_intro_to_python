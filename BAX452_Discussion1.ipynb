{
  "nbformat": 4,
  "nbformat_minor": 0,
  "metadata": {
    "colab": {
      "name": "BAX452-Discussion1.ipynb",
      "version": "0.3.2",
      "provenance": [],
      "include_colab_link": true
    },
    "kernelspec": {
      "name": "python3",
      "display_name": "Python 3"
    }
  },
  "cells": [
    {
      "cell_type": "markdown",
      "metadata": {
        "id": "view-in-github",
        "colab_type": "text"
      },
      "source": [
        "<a href=\"https://colab.research.google.com/github/krithikaceg/functional_intro_to_python/blob/master/BAX452_Discussion1.ipynb\" target=\"_parent\"><img src=\"https://colab.research.google.com/assets/colab-badge.svg\" alt=\"Open In Colab\"/></a>"
      ]
    },
    {
      "metadata": {
        "id": "SrApp-RcH13Z",
        "colab_type": "text"
      },
      "cell_type": "markdown",
      "source": [
        "## Discussion #1"
      ]
    },
    {
      "metadata": {
        "id": "qI2nzyyxIDSm",
        "colab_type": "text"
      },
      "cell_type": "markdown",
      "source": [
        "* 10 Points Total\n",
        "  * 5 points for modifying this colab notebook and making it does something different\n",
        "  * 5 points for responding to at least one other person's changes.\n",
        "  \n",
        "**Grading Criteria**\n",
        "\n",
        "* Creativity\n",
        "* Complexity\n",
        "* Relevant\n",
        "* Software Quality\n",
        "* Did you test your link in \"incognito mode\" so other can open it?"
      ]
    },
    {
      "metadata": {
        "id": "uFXnlSzOKxC_",
        "colab_type": "text"
      },
      "cell_type": "markdown",
      "source": [
        "### Installing textblob"
      ]
    },
    {
      "metadata": {
        "id": "gHhz7655K1f5",
        "colab_type": "code",
        "colab": {}
      },
      "cell_type": "code",
      "source": [
        "!pip -q install -U textblob"
      ],
      "execution_count": 0,
      "outputs": []
    },
    {
      "metadata": {
        "id": "_m6ZSeE0JNZu",
        "colab_type": "text"
      },
      "cell_type": "markdown",
      "source": [
        "### Making a Pandas DataFrame from scratch"
      ]
    },
    {
      "metadata": {
        "id": "cKDMQwU0Hvey",
        "colab_type": "code",
        "colab": {}
      },
      "cell_type": "code",
      "source": [
        "import pandas as pd\n",
        "from textblob import TextBlob\n"
      ],
      "execution_count": 0,
      "outputs": []
    },
    {
      "metadata": {
        "id": "P2jRChieJYzl",
        "colab_type": "code",
        "colab": {}
      },
      "cell_type": "code",
      "source": [
        "df = pd.DataFrame(\n",
        "  {\"SentimentRaw\": [\"I am very Angry\",\n",
        "                    \"We are very Happy\",\n",
        "                    \"It is raining in Seattle\"]}\n",
        ")"
      ],
      "execution_count": 0,
      "outputs": []
    },
    {
      "metadata": {
        "id": "ErJerROzJ0Mc",
        "colab_type": "text"
      },
      "cell_type": "markdown",
      "source": [
        "### Creating an Apply function"
      ]
    },
    {
      "metadata": {
        "id": "iBBUxcZ_KFIp",
        "colab_type": "code",
        "colab": {}
      },
      "cell_type": "code",
      "source": [
        "def create_sentiment(row):\n",
        "  \"This operates on a row of a Pandas DataFrame and performs an action\"\n",
        "  \n",
        "  result = TextBlob(row)\n",
        "  spanish_version = result.translate(to=\"es\")\n",
        "  print(f\"Raw phrase: {row}, spanish version: {spanish_version}\")\n",
        "  return spanish_version\n",
        " \n",
        "  "
      ],
      "execution_count": 0,
      "outputs": []
    },
    {
      "metadata": {
        "id": "9jK6JOE2Mn0V",
        "colab_type": "text"
      },
      "cell_type": "markdown",
      "source": [
        "### Apply to DataFrame"
      ]
    },
    {
      "metadata": {
        "id": "zqg5djAiMuCv",
        "colab_type": "code",
        "outputId": "c4b76531-240d-492b-fb03-37ddc617b0f6",
        "colab": {
          "base_uri": "https://localhost:8080/",
          "height": 68
        }
      },
      "cell_type": "code",
      "source": [
        "df[\"SpanishSentimentRaw\"] = df[\"SentimentRaw\"].apply(create_sentiment)"
      ],
      "execution_count": 0,
      "outputs": [
        {
          "output_type": "stream",
          "text": [
            "Raw phrase: I am very Angry, spanish version: Estoy muy furioso\n",
            "Raw phrase: We are very Happy, spanish version: Estamos muy felices\n",
            "Raw phrase: It is raining in Seattle, spanish version: Esta lloviendo en seattle\n"
          ],
          "name": "stdout"
        }
      ]
    },
    {
      "metadata": {
        "id": "gx-LCj4CM6on",
        "colab_type": "code",
        "colab": {}
      },
      "cell_type": "code",
      "source": [
        ""
      ],
      "execution_count": 0,
      "outputs": []
    }
  ]
}
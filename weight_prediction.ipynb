{
  "nbformat": 4,
  "nbformat_minor": 0,
  "metadata": {
    "colab": {
      "name": "weight_prediction.ipynb",
      "version": "0.3.2",
      "provenance": [],
      "include_colab_link": true
    },
    "kernelspec": {
      "name": "python3",
      "display_name": "Python 3"
    }
  },
  "cells": [
    {
      "cell_type": "markdown",
      "metadata": {
        "id": "view-in-github",
        "colab_type": "text"
      },
      "source": [
        "<a href=\"https://colab.research.google.com/github/krithikaceg/functional_intro_to_python/blob/master/weight_prediction.ipynb\" target=\"_parent\"><img src=\"https://colab.research.google.com/assets/colab-badge.svg\" alt=\"Open In Colab\"/></a>"
      ]
    },
    {
      "metadata": {
        "id": "D_D-8Zpe_AT2",
        "colab_type": "text"
      },
      "cell_type": "markdown",
      "source": [
        "# **Ingest**"
      ]
    },
    {
      "metadata": {
        "id": "dYDOvhxyUEYd",
        "colab_type": "code",
        "colab": {}
      },
      "cell_type": "code",
      "source": [
        "import pandas as pd\n",
        "import seaborn as sns"
      ],
      "execution_count": 0,
      "outputs": []
    },
    {
      "metadata": {
        "id": "j32tFKNZ4_nI",
        "colab_type": "code",
        "outputId": "0b3184a0-bdb6-45ae-be7a-7d88542007b1",
        "colab": {
          "base_uri": "https://localhost:8080/",
          "height": 204
        }
      },
      "cell_type": "code",
      "source": [
        "df = pd.read_csv(\"https://raw.githubusercontent.com/noahgift/functional_intro_to_python/master/data/mlb_weight_ht.csv\")\n",
        "df.head()"
      ],
      "execution_count": 57,
      "outputs": [
        {
          "output_type": "execute_result",
          "data": {
            "text/html": [
              "<div>\n",
              "<style scoped>\n",
              "    .dataframe tbody tr th:only-of-type {\n",
              "        vertical-align: middle;\n",
              "    }\n",
              "\n",
              "    .dataframe tbody tr th {\n",
              "        vertical-align: top;\n",
              "    }\n",
              "\n",
              "    .dataframe thead th {\n",
              "        text-align: right;\n",
              "    }\n",
              "</style>\n",
              "<table border=\"1\" class=\"dataframe\">\n",
              "  <thead>\n",
              "    <tr style=\"text-align: right;\">\n",
              "      <th></th>\n",
              "      <th>Name</th>\n",
              "      <th>Team</th>\n",
              "      <th>Position</th>\n",
              "      <th>Height(inches)</th>\n",
              "      <th>Weight(pounds)</th>\n",
              "      <th>Age</th>\n",
              "    </tr>\n",
              "  </thead>\n",
              "  <tbody>\n",
              "    <tr>\n",
              "      <th>0</th>\n",
              "      <td>Adam_Donachie</td>\n",
              "      <td>BAL</td>\n",
              "      <td>Catcher</td>\n",
              "      <td>74</td>\n",
              "      <td>180.0</td>\n",
              "      <td>22.99</td>\n",
              "    </tr>\n",
              "    <tr>\n",
              "      <th>1</th>\n",
              "      <td>Paul_Bako</td>\n",
              "      <td>BAL</td>\n",
              "      <td>Catcher</td>\n",
              "      <td>74</td>\n",
              "      <td>215.0</td>\n",
              "      <td>34.69</td>\n",
              "    </tr>\n",
              "    <tr>\n",
              "      <th>2</th>\n",
              "      <td>Ramon_Hernandez</td>\n",
              "      <td>BAL</td>\n",
              "      <td>Catcher</td>\n",
              "      <td>72</td>\n",
              "      <td>210.0</td>\n",
              "      <td>30.78</td>\n",
              "    </tr>\n",
              "    <tr>\n",
              "      <th>3</th>\n",
              "      <td>Kevin_Millar</td>\n",
              "      <td>BAL</td>\n",
              "      <td>First_Baseman</td>\n",
              "      <td>72</td>\n",
              "      <td>210.0</td>\n",
              "      <td>35.43</td>\n",
              "    </tr>\n",
              "    <tr>\n",
              "      <th>4</th>\n",
              "      <td>Chris_Gomez</td>\n",
              "      <td>BAL</td>\n",
              "      <td>First_Baseman</td>\n",
              "      <td>73</td>\n",
              "      <td>188.0</td>\n",
              "      <td>35.71</td>\n",
              "    </tr>\n",
              "  </tbody>\n",
              "</table>\n",
              "</div>"
            ],
            "text/plain": [
              "              Name Team       Position  Height(inches)  Weight(pounds)    Age\n",
              "0    Adam_Donachie  BAL        Catcher              74           180.0  22.99\n",
              "1        Paul_Bako  BAL        Catcher              74           215.0  34.69\n",
              "2  Ramon_Hernandez  BAL        Catcher              72           210.0  30.78\n",
              "3     Kevin_Millar  BAL  First_Baseman              72           210.0  35.43\n",
              "4      Chris_Gomez  BAL  First_Baseman              73           188.0  35.71"
            ]
          },
          "metadata": {
            "tags": []
          },
          "execution_count": 57
        }
      ]
    },
    {
      "metadata": {
        "id": "yuUXbE325EI0",
        "colab_type": "code",
        "outputId": "7b9637da-25d8-4f1e-e08c-632af41be23d",
        "colab": {
          "base_uri": "https://localhost:8080/",
          "height": 34
        }
      },
      "cell_type": "code",
      "source": [
        "df.shape"
      ],
      "execution_count": 0,
      "outputs": [
        {
          "output_type": "execute_result",
          "data": {
            "text/plain": [
              "(1034, 6)"
            ]
          },
          "metadata": {
            "tags": []
          },
          "execution_count": 2
        }
      ]
    },
    {
      "metadata": {
        "id": "b2y_4GiD5E77",
        "colab_type": "code",
        "outputId": "6f7396d5-c012-4fb5-862e-67f4d4e2cfde",
        "colab": {
          "base_uri": "https://localhost:8080/",
          "height": 136
        }
      },
      "cell_type": "code",
      "source": [
        "df.isnull().sum()"
      ],
      "execution_count": 0,
      "outputs": [
        {
          "output_type": "execute_result",
          "data": {
            "text/plain": [
              "Name              0\n",
              "Team              0\n",
              "Position          0\n",
              "Height(inches)    0\n",
              "Weight(pounds)    1\n",
              "Age               0\n",
              "dtype: int64"
            ]
          },
          "metadata": {
            "tags": []
          },
          "execution_count": 3
        }
      ]
    },
    {
      "metadata": {
        "id": "Ybom6bQU-7v7",
        "colab_type": "text"
      },
      "cell_type": "markdown",
      "source": [
        "**Clean**"
      ]
    },
    {
      "metadata": {
        "id": "hF6g6icv8U75",
        "colab_type": "code",
        "colab": {
          "base_uri": "https://localhost:8080/",
          "height": 204
        },
        "outputId": "687e814b-6383-4661-af0c-0ba4f6073f4a"
      },
      "cell_type": "code",
      "source": [
        "df.rename(index=str, columns={'Height(inches)':'height', 'Weight(pounds)': 'weight'}, inplace=True)\n",
        "df.head()"
      ],
      "execution_count": 51,
      "outputs": [
        {
          "output_type": "execute_result",
          "data": {
            "text/html": [
              "<div>\n",
              "<style scoped>\n",
              "    .dataframe tbody tr th:only-of-type {\n",
              "        vertical-align: middle;\n",
              "    }\n",
              "\n",
              "    .dataframe tbody tr th {\n",
              "        vertical-align: top;\n",
              "    }\n",
              "\n",
              "    .dataframe thead th {\n",
              "        text-align: right;\n",
              "    }\n",
              "</style>\n",
              "<table border=\"1\" class=\"dataframe\">\n",
              "  <thead>\n",
              "    <tr style=\"text-align: right;\">\n",
              "      <th></th>\n",
              "      <th>Name</th>\n",
              "      <th>Team</th>\n",
              "      <th>Position</th>\n",
              "      <th>Height</th>\n",
              "      <th>Weight</th>\n",
              "      <th>Age</th>\n",
              "    </tr>\n",
              "  </thead>\n",
              "  <tbody>\n",
              "    <tr>\n",
              "      <th>0</th>\n",
              "      <td>Adam_Donachie</td>\n",
              "      <td>BAL</td>\n",
              "      <td>Catcher</td>\n",
              "      <td>74</td>\n",
              "      <td>180.0</td>\n",
              "      <td>22.99</td>\n",
              "    </tr>\n",
              "    <tr>\n",
              "      <th>1</th>\n",
              "      <td>Paul_Bako</td>\n",
              "      <td>BAL</td>\n",
              "      <td>Catcher</td>\n",
              "      <td>74</td>\n",
              "      <td>215.0</td>\n",
              "      <td>34.69</td>\n",
              "    </tr>\n",
              "    <tr>\n",
              "      <th>2</th>\n",
              "      <td>Ramon_Hernandez</td>\n",
              "      <td>BAL</td>\n",
              "      <td>Catcher</td>\n",
              "      <td>72</td>\n",
              "      <td>210.0</td>\n",
              "      <td>30.78</td>\n",
              "    </tr>\n",
              "    <tr>\n",
              "      <th>3</th>\n",
              "      <td>Kevin_Millar</td>\n",
              "      <td>BAL</td>\n",
              "      <td>First_Baseman</td>\n",
              "      <td>72</td>\n",
              "      <td>210.0</td>\n",
              "      <td>35.43</td>\n",
              "    </tr>\n",
              "    <tr>\n",
              "      <th>4</th>\n",
              "      <td>Chris_Gomez</td>\n",
              "      <td>BAL</td>\n",
              "      <td>First_Baseman</td>\n",
              "      <td>73</td>\n",
              "      <td>188.0</td>\n",
              "      <td>35.71</td>\n",
              "    </tr>\n",
              "  </tbody>\n",
              "</table>\n",
              "</div>"
            ],
            "text/plain": [
              "              Name Team       Position  Height  Weight    Age\n",
              "0    Adam_Donachie  BAL        Catcher      74   180.0  22.99\n",
              "1        Paul_Bako  BAL        Catcher      74   215.0  34.69\n",
              "2  Ramon_Hernandez  BAL        Catcher      72   210.0  30.78\n",
              "3     Kevin_Millar  BAL  First_Baseman      72   210.0  35.43\n",
              "4      Chris_Gomez  BAL  First_Baseman      73   188.0  35.71"
            ]
          },
          "metadata": {
            "tags": []
          },
          "execution_count": 51
        }
      ]
    },
    {
      "metadata": {
        "id": "e5gH3JkB9Wab",
        "colab_type": "code",
        "colab": {
          "base_uri": "https://localhost:8080/",
          "height": 136
        },
        "outputId": "c9471249-33c5-4dd8-bf3a-39ddd693821f"
      },
      "cell_type": "code",
      "source": [
        "df.Weight.fillna(value=df['Weight'].median(), inplace=True)\n",
        "df.isnull().sum()"
      ],
      "execution_count": 52,
      "outputs": [
        {
          "output_type": "execute_result",
          "data": {
            "text/plain": [
              "Name        0\n",
              "Team        0\n",
              "Position    0\n",
              "Height      0\n",
              "Weight      0\n",
              "Age         0\n",
              "dtype: int64"
            ]
          },
          "metadata": {
            "tags": []
          },
          "execution_count": 52
        }
      ]
    },
    {
      "metadata": {
        "id": "xok8rOrq_3cu",
        "colab_type": "text"
      },
      "cell_type": "markdown",
      "source": [
        "# **EDA**"
      ]
    },
    {
      "metadata": {
        "id": "h0arDkkh_57q",
        "colab_type": "code",
        "colab": {
          "base_uri": "https://localhost:8080/",
          "height": 297
        },
        "outputId": "a62d9692-c5d8-428c-9b98-1912965de150"
      },
      "cell_type": "code",
      "source": [
        "df.describe()"
      ],
      "execution_count": 39,
      "outputs": [
        {
          "output_type": "execute_result",
          "data": {
            "text/html": [
              "<div>\n",
              "<style scoped>\n",
              "    .dataframe tbody tr th:only-of-type {\n",
              "        vertical-align: middle;\n",
              "    }\n",
              "\n",
              "    .dataframe tbody tr th {\n",
              "        vertical-align: top;\n",
              "    }\n",
              "\n",
              "    .dataframe thead th {\n",
              "        text-align: right;\n",
              "    }\n",
              "</style>\n",
              "<table border=\"1\" class=\"dataframe\">\n",
              "  <thead>\n",
              "    <tr style=\"text-align: right;\">\n",
              "      <th></th>\n",
              "      <th>Height</th>\n",
              "      <th>Weight</th>\n",
              "      <th>Age</th>\n",
              "    </tr>\n",
              "  </thead>\n",
              "  <tbody>\n",
              "    <tr>\n",
              "      <th>count</th>\n",
              "      <td>1034.000000</td>\n",
              "      <td>1034.000000</td>\n",
              "      <td>1034.000000</td>\n",
              "    </tr>\n",
              "    <tr>\n",
              "      <th>mean</th>\n",
              "      <td>73.697292</td>\n",
              "      <td>201.687621</td>\n",
              "      <td>28.736712</td>\n",
              "    </tr>\n",
              "    <tr>\n",
              "      <th>std</th>\n",
              "      <td>2.305818</td>\n",
              "      <td>20.981394</td>\n",
              "      <td>4.320310</td>\n",
              "    </tr>\n",
              "    <tr>\n",
              "      <th>min</th>\n",
              "      <td>67.000000</td>\n",
              "      <td>150.000000</td>\n",
              "      <td>20.900000</td>\n",
              "    </tr>\n",
              "    <tr>\n",
              "      <th>25%</th>\n",
              "      <td>72.000000</td>\n",
              "      <td>187.000000</td>\n",
              "      <td>25.440000</td>\n",
              "    </tr>\n",
              "    <tr>\n",
              "      <th>50%</th>\n",
              "      <td>74.000000</td>\n",
              "      <td>200.000000</td>\n",
              "      <td>27.925000</td>\n",
              "    </tr>\n",
              "    <tr>\n",
              "      <th>75%</th>\n",
              "      <td>75.000000</td>\n",
              "      <td>215.000000</td>\n",
              "      <td>31.232500</td>\n",
              "    </tr>\n",
              "    <tr>\n",
              "      <th>max</th>\n",
              "      <td>83.000000</td>\n",
              "      <td>290.000000</td>\n",
              "      <td>48.520000</td>\n",
              "    </tr>\n",
              "  </tbody>\n",
              "</table>\n",
              "</div>"
            ],
            "text/plain": [
              "            Height       Weight          Age\n",
              "count  1034.000000  1034.000000  1034.000000\n",
              "mean     73.697292   201.687621    28.736712\n",
              "std       2.305818    20.981394     4.320310\n",
              "min      67.000000   150.000000    20.900000\n",
              "25%      72.000000   187.000000    25.440000\n",
              "50%      74.000000   200.000000    27.925000\n",
              "75%      75.000000   215.000000    31.232500\n",
              "max      83.000000   290.000000    48.520000"
            ]
          },
          "metadata": {
            "tags": []
          },
          "execution_count": 39
        }
      ]
    },
    {
      "metadata": {
        "id": "5QpZ0RGJFOzB",
        "colab_type": "code",
        "colab": {}
      },
      "cell_type": "code",
      "source": [
        "df=df1"
      ],
      "execution_count": 0,
      "outputs": []
    },
    {
      "metadata": {
        "id": "ofNyy7lgETvO",
        "colab_type": "code",
        "colab": {
          "base_uri": "https://localhost:8080/",
          "height": 273
        },
        "outputId": "b6016661-2e62-44f5-a796-5dfed5998572"
      },
      "cell_type": "code",
      "source": [
        "dummies_team = pd.get_dummies(df['Team']).rename(columns=lambda x: 'Team_' + str(x))\n",
        "dummies_position = pd.get_dummies(df['Position']).rename(columns=lambda x: 'Position_' + str(x))\n",
        "df = pd.concat([df, dummies_team, dummies_position], axis=1)\n",
        "#df.drop(['Team', 'Position'], inplace=True, axis=1)\n",
        "df.head()"
      ],
      "execution_count": 61,
      "outputs": [
        {
          "output_type": "execute_result",
          "data": {
            "text/html": [
              "<div>\n",
              "<style scoped>\n",
              "    .dataframe tbody tr th:only-of-type {\n",
              "        vertical-align: middle;\n",
              "    }\n",
              "\n",
              "    .dataframe tbody tr th {\n",
              "        vertical-align: top;\n",
              "    }\n",
              "\n",
              "    .dataframe thead th {\n",
              "        text-align: right;\n",
              "    }\n",
              "</style>\n",
              "<table border=\"1\" class=\"dataframe\">\n",
              "  <thead>\n",
              "    <tr style=\"text-align: right;\">\n",
              "      <th></th>\n",
              "      <th>Name</th>\n",
              "      <th>Team</th>\n",
              "      <th>Position</th>\n",
              "      <th>Height</th>\n",
              "      <th>Weight</th>\n",
              "      <th>Age</th>\n",
              "      <th>Team_ANA</th>\n",
              "      <th>Team_ARZ</th>\n",
              "      <th>Team_ATL</th>\n",
              "      <th>Team_BAL</th>\n",
              "      <th>...</th>\n",
              "      <th>Team_WAS</th>\n",
              "      <th>Position_Catcher</th>\n",
              "      <th>Position_Designated_Hitter</th>\n",
              "      <th>Position_First_Baseman</th>\n",
              "      <th>Position_Outfielder</th>\n",
              "      <th>Position_Relief_Pitcher</th>\n",
              "      <th>Position_Second_Baseman</th>\n",
              "      <th>Position_Shortstop</th>\n",
              "      <th>Position_Starting_Pitcher</th>\n",
              "      <th>Position_Third_Baseman</th>\n",
              "    </tr>\n",
              "  </thead>\n",
              "  <tbody>\n",
              "    <tr>\n",
              "      <th>0</th>\n",
              "      <td>Adam_Donachie</td>\n",
              "      <td>BAL</td>\n",
              "      <td>Catcher</td>\n",
              "      <td>74</td>\n",
              "      <td>180.0</td>\n",
              "      <td>22.99</td>\n",
              "      <td>0</td>\n",
              "      <td>0</td>\n",
              "      <td>0</td>\n",
              "      <td>1</td>\n",
              "      <td>...</td>\n",
              "      <td>0</td>\n",
              "      <td>1</td>\n",
              "      <td>0</td>\n",
              "      <td>0</td>\n",
              "      <td>0</td>\n",
              "      <td>0</td>\n",
              "      <td>0</td>\n",
              "      <td>0</td>\n",
              "      <td>0</td>\n",
              "      <td>0</td>\n",
              "    </tr>\n",
              "    <tr>\n",
              "      <th>1</th>\n",
              "      <td>Paul_Bako</td>\n",
              "      <td>BAL</td>\n",
              "      <td>Catcher</td>\n",
              "      <td>74</td>\n",
              "      <td>215.0</td>\n",
              "      <td>34.69</td>\n",
              "      <td>0</td>\n",
              "      <td>0</td>\n",
              "      <td>0</td>\n",
              "      <td>1</td>\n",
              "      <td>...</td>\n",
              "      <td>0</td>\n",
              "      <td>1</td>\n",
              "      <td>0</td>\n",
              "      <td>0</td>\n",
              "      <td>0</td>\n",
              "      <td>0</td>\n",
              "      <td>0</td>\n",
              "      <td>0</td>\n",
              "      <td>0</td>\n",
              "      <td>0</td>\n",
              "    </tr>\n",
              "    <tr>\n",
              "      <th>2</th>\n",
              "      <td>Ramon_Hernandez</td>\n",
              "      <td>BAL</td>\n",
              "      <td>Catcher</td>\n",
              "      <td>72</td>\n",
              "      <td>210.0</td>\n",
              "      <td>30.78</td>\n",
              "      <td>0</td>\n",
              "      <td>0</td>\n",
              "      <td>0</td>\n",
              "      <td>1</td>\n",
              "      <td>...</td>\n",
              "      <td>0</td>\n",
              "      <td>1</td>\n",
              "      <td>0</td>\n",
              "      <td>0</td>\n",
              "      <td>0</td>\n",
              "      <td>0</td>\n",
              "      <td>0</td>\n",
              "      <td>0</td>\n",
              "      <td>0</td>\n",
              "      <td>0</td>\n",
              "    </tr>\n",
              "    <tr>\n",
              "      <th>3</th>\n",
              "      <td>Kevin_Millar</td>\n",
              "      <td>BAL</td>\n",
              "      <td>First_Baseman</td>\n",
              "      <td>72</td>\n",
              "      <td>210.0</td>\n",
              "      <td>35.43</td>\n",
              "      <td>0</td>\n",
              "      <td>0</td>\n",
              "      <td>0</td>\n",
              "      <td>1</td>\n",
              "      <td>...</td>\n",
              "      <td>0</td>\n",
              "      <td>0</td>\n",
              "      <td>0</td>\n",
              "      <td>1</td>\n",
              "      <td>0</td>\n",
              "      <td>0</td>\n",
              "      <td>0</td>\n",
              "      <td>0</td>\n",
              "      <td>0</td>\n",
              "      <td>0</td>\n",
              "    </tr>\n",
              "    <tr>\n",
              "      <th>4</th>\n",
              "      <td>Chris_Gomez</td>\n",
              "      <td>BAL</td>\n",
              "      <td>First_Baseman</td>\n",
              "      <td>73</td>\n",
              "      <td>188.0</td>\n",
              "      <td>35.71</td>\n",
              "      <td>0</td>\n",
              "      <td>0</td>\n",
              "      <td>0</td>\n",
              "      <td>1</td>\n",
              "      <td>...</td>\n",
              "      <td>0</td>\n",
              "      <td>0</td>\n",
              "      <td>0</td>\n",
              "      <td>1</td>\n",
              "      <td>0</td>\n",
              "      <td>0</td>\n",
              "      <td>0</td>\n",
              "      <td>0</td>\n",
              "      <td>0</td>\n",
              "      <td>0</td>\n",
              "    </tr>\n",
              "  </tbody>\n",
              "</table>\n",
              "<p>5 rows × 45 columns</p>\n",
              "</div>"
            ],
            "text/plain": [
              "              Name Team       Position  Height  Weight    Age  Team_ANA  \\\n",
              "0    Adam_Donachie  BAL        Catcher      74   180.0  22.99         0   \n",
              "1        Paul_Bako  BAL        Catcher      74   215.0  34.69         0   \n",
              "2  Ramon_Hernandez  BAL        Catcher      72   210.0  30.78         0   \n",
              "3     Kevin_Millar  BAL  First_Baseman      72   210.0  35.43         0   \n",
              "4      Chris_Gomez  BAL  First_Baseman      73   188.0  35.71         0   \n",
              "\n",
              "   Team_ARZ  Team_ATL  Team_BAL           ...            Team_WAS  \\\n",
              "0         0         0         1           ...                   0   \n",
              "1         0         0         1           ...                   0   \n",
              "2         0         0         1           ...                   0   \n",
              "3         0         0         1           ...                   0   \n",
              "4         0         0         1           ...                   0   \n",
              "\n",
              "   Position_Catcher  Position_Designated_Hitter  Position_First_Baseman  \\\n",
              "0                 1                           0                       0   \n",
              "1                 1                           0                       0   \n",
              "2                 1                           0                       0   \n",
              "3                 0                           0                       1   \n",
              "4                 0                           0                       1   \n",
              "\n",
              "   Position_Outfielder  Position_Relief_Pitcher  Position_Second_Baseman  \\\n",
              "0                    0                        0                        0   \n",
              "1                    0                        0                        0   \n",
              "2                    0                        0                        0   \n",
              "3                    0                        0                        0   \n",
              "4                    0                        0                        0   \n",
              "\n",
              "   Position_Shortstop  Position_Starting_Pitcher  Position_Third_Baseman  \n",
              "0                   0                          0                       0  \n",
              "1                   0                          0                       0  \n",
              "2                   0                          0                       0  \n",
              "3                   0                          0                       0  \n",
              "4                   0                          0                       0  \n",
              "\n",
              "[5 rows x 45 columns]"
            ]
          },
          "metadata": {
            "tags": []
          },
          "execution_count": 61
        }
      ]
    },
    {
      "metadata": {
        "id": "S__9DVHPT-Qa",
        "colab_type": "code",
        "colab": {
          "base_uri": "https://localhost:8080/",
          "height": 639
        },
        "outputId": "1f4acbdb-b4d3-4155-b215-4826eed7cde5"
      },
      "cell_type": "code",
      "source": [
        "sns.set_style(\"whitegrid\")\n",
        "ax = sns.boxplot(x=\"Position\", y=\"Weight\", data=df, palette=\"Set3\")\n",
        "ax.set_xticklabels(ax.get_xticklabels(), rotation=90)"
      ],
      "execution_count": 67,
      "outputs": [
        {
          "output_type": "stream",
          "text": [
            "/usr/local/lib/python3.6/dist-packages/seaborn/categorical.py:454: FutureWarning: remove_na is deprecated and is a private function. Do not use.\n",
            "  box_data = remove_na(group_data)\n"
          ],
          "name": "stderr"
        },
        {
          "output_type": "execute_result",
          "data": {
            "text/plain": [
              "[Text(0, 0, 'Catcher'),\n",
              " Text(0, 0, 'First_Baseman'),\n",
              " Text(0, 0, 'Second_Baseman'),\n",
              " Text(0, 0, 'Shortstop'),\n",
              " Text(0, 0, 'Third_Baseman'),\n",
              " Text(0, 0, 'Outfielder'),\n",
              " Text(0, 0, 'Designated_Hitter'),\n",
              " Text(0, 0, 'Starting_Pitcher'),\n",
              " Text(0, 0, 'Relief_Pitcher')]"
            ]
          },
          "metadata": {
            "tags": []
          },
          "execution_count": 67
        },
        {
          "output_type": "display_data",
          "data": {
            "image/png": "[encoded data removed]",
            "text/plain": [
              "<Figure size 576x396 with 1 Axes>"
            ]
          },
          "metadata": {
            "tags": []
          }
        }
      ]
    },
    {
      "metadata": {
        "id": "QkWRghKEY8p6",
        "colab_type": "code",
        "colab": {
          "base_uri": "https://localhost:8080/",
          "height": 365
        },
        "outputId": "e2d7ef51-b0a7-4754-a4f3-eadf45167b30"
      },
      "cell_type": "code",
      "source": [
        "sns.set_style(\"whitegrid\")\n",
        "ax = sns.lmplot(x=\"Height\", y=\"Weight\", data=df)\n",
        "#ax.set_xticklabels(ax.get_xticklabels(), rotation=90)"
      ],
      "execution_count": 70,
      "outputs": [
        {
          "output_type": "display_data",
          "data": {
            "image/png": "[encoded data removed]",
            "text/plain": [
              "<Figure size 360x360 with 1 Axes>"
            ]
          },
          "metadata": {
            "tags": []
          }
        }
      ]
    },
    {
      "metadata": {
        "id": "NquQ9S5-Z6zJ",
        "colab_type": "code",
        "colab": {
          "base_uri": "https://localhost:8080/",
          "height": 365
        },
        "outputId": "894280f4-a552-4483-c36e-cfc3dc688676"
      },
      "cell_type": "code",
      "source": [
        "sns.set_style(\"whitegrid\")\n",
        "ax = sns.lmplot(x=\"Age\", y=\"Weight\", data=df)\n",
        "#ax.set_xticklabels(ax.get_xticklabels(), rotation=90)"
      ],
      "execution_count": 71,
      "outputs": [
        {
          "output_type": "display_data",
          "data": {
            "image/png": "[encoded data removed]",
            "text/plain": [
              "<Figure size 360x360 with 1 Axes>"
            ]
          },
          "metadata": {
            "tags": []
          }
        }
      ]
    },
    {
      "metadata": {
        "id": "AgY0aQiBNgrg",
        "colab_type": "text"
      },
      "cell_type": "markdown",
      "source": [
        "# Model"
      ]
    },
    {
      "metadata": {
        "id": "8lzc98GwNh_e",
        "colab_type": "code",
        "colab": {}
      },
      "cell_type": "code",
      "source": [
        "from sklearn import linear_model\n",
        "from sklearn.model_selection import train_test_split\n",
        "\n"
      ],
      "execution_count": 0,
      "outputs": []
    },
    {
      "metadata": {
        "id": "7u5EFF1FQfbs",
        "colab_type": "text"
      },
      "cell_type": "markdown",
      "source": [
        "### Create Features\n"
      ]
    },
    {
      "metadata": {
        "id": "9xBm4wektxRh",
        "colab_type": "code",
        "outputId": "38b3a3db-4ba5-4a0c-eeee-878c9d299cca",
        "colab": {
          "base_uri": "https://localhost:8080/",
          "height": 34
        }
      },
      "cell_type": "code",
      "source": [
        "var = df['Weight'].values\n",
        "var.shape"
      ],
      "execution_count": 72,
      "outputs": [
        {
          "output_type": "execute_result",
          "data": {
            "text/plain": [
              "(1034,)"
            ]
          },
          "metadata": {
            "tags": []
          },
          "execution_count": 72
        }
      ]
    },
    {
      "metadata": {
        "id": "SEUpMhHvQhkc",
        "colab_type": "code",
        "colab": {}
      },
      "cell_type": "code",
      "source": [
        "y = df['Weight'].values #Target\n",
        "y = y.reshape(-1, 1)\n",
        "X = pd.concat([df['Height'], dummies_position], axis=1) #Feature(s)\n",
        "#X = X.reshape(-1,1)"
      ],
      "execution_count": 0,
      "outputs": []
    },
    {
      "metadata": {
        "id": "gUR6C0NYxGXJ",
        "colab_type": "code",
        "colab": {
          "base_uri": "https://localhost:8080/",
          "height": 34
        },
        "outputId": "e6befa6f-f3a9-4833-ebcb-10f0a0d449eb"
      },
      "cell_type": "code",
      "source": [
        "X.shape"
      ],
      "execution_count": 81,
      "outputs": [
        {
          "output_type": "execute_result",
          "data": {
            "text/plain": [
              "(1034, 10)"
            ]
          },
          "metadata": {
            "tags": []
          },
          "execution_count": 81
        }
      ]
    },
    {
      "metadata": {
        "id": "eGW5TKEyt64F",
        "colab_type": "code",
        "outputId": "6045e446-e4dd-4b98-ff7d-b4c8bf9d25c9",
        "colab": {
          "base_uri": "https://localhost:8080/",
          "height": 34
        }
      },
      "cell_type": "code",
      "source": [
        "y.shape"
      ],
      "execution_count": 75,
      "outputs": [
        {
          "output_type": "execute_result",
          "data": {
            "text/plain": [
              "(1034, 1)"
            ]
          },
          "metadata": {
            "tags": []
          },
          "execution_count": 75
        }
      ]
    },
    {
      "metadata": {
        "id": "a1PeC6cbQHar",
        "colab_type": "text"
      },
      "cell_type": "markdown",
      "source": [
        "### Split data"
      ]
    },
    {
      "metadata": {
        "id": "Pb552OpRON4G",
        "colab_type": "code",
        "outputId": "a08bf29e-1685-434e-f4dd-178d99c333e9",
        "colab": {
          "base_uri": "https://localhost:8080/",
          "height": 51
        }
      },
      "cell_type": "code",
      "source": [
        "X_train, X_test, y_train, y_test = train_test_split(X, y, test_size=0.2)\n",
        "print(X_train.shape, y_train.shape)\n",
        "print(X_test.shape, y_test.shape)"
      ],
      "execution_count": 82,
      "outputs": [
        {
          "output_type": "stream",
          "text": [
            "(827, 10) (827, 1)\n",
            "(207, 10) (207, 1)\n"
          ],
          "name": "stdout"
        }
      ]
    },
    {
      "metadata": {
        "id": "XSX1G3QoQFdy",
        "colab_type": "text"
      },
      "cell_type": "markdown",
      "source": [
        "### Fit the model"
      ]
    },
    {
      "metadata": {
        "id": "KxnwLKlrPorE",
        "colab_type": "code",
        "colab": {}
      },
      "cell_type": "code",
      "source": [
        "lm = linear_model.LinearRegression()\n",
        "model = lm.fit(X_train, y_train)\n",
        "predictions = lm.predict(X_test)"
      ],
      "execution_count": 0,
      "outputs": []
    },
    {
      "metadata": {
        "id": "lJTO3X5lweum",
        "colab_type": "code",
        "colab": {}
      },
      "cell_type": "code",
      "source": [
        "lm.predict?"
      ],
      "execution_count": 0,
      "outputs": []
    },
    {
      "metadata": {
        "id": "WipFTmTtV29v",
        "colab_type": "text"
      },
      "cell_type": "markdown",
      "source": [
        "Returns Numpy Array"
      ]
    },
    {
      "metadata": {
        "id": "PE3iilyCUxFX",
        "colab_type": "code",
        "outputId": "8f304e05-5b37-4b42-ce95-fc26f7f2ceb1",
        "colab": {
          "base_uri": "https://localhost:8080/",
          "height": 34
        }
      },
      "cell_type": "code",
      "source": [
        "type(predictions)"
      ],
      "execution_count": 85,
      "outputs": [
        {
          "output_type": "execute_result",
          "data": {
            "text/plain": [
              "numpy.ndarray"
            ]
          },
          "metadata": {
            "tags": []
          },
          "execution_count": 85
        }
      ]
    },
    {
      "metadata": {
        "id": "wXZj9Jq_TKjr",
        "colab_type": "text"
      },
      "cell_type": "markdown",
      "source": [
        "### Plot Predictions"
      ]
    },
    {
      "metadata": {
        "id": "guGaARR3T-s9",
        "colab_type": "code",
        "outputId": "0e056a98-388b-45ea-b7e2-698c2c904e2f",
        "colab": {
          "base_uri": "https://localhost:8080/",
          "height": 378
        }
      },
      "cell_type": "code",
      "source": [
        "from matplotlib import pyplot as plt\n",
        "plt.scatter(y_test, predictions)\n",
        "plt.xlabel(\"Actual Weight\")\n",
        "plt.ylabel(\"Predicted Weight\")"
      ],
      "execution_count": 86,
      "outputs": [
        {
          "output_type": "execute_result",
          "data": {
            "text/plain": [
              "Text(0, 0.5, 'Predicted Weight')"
            ]
          },
          "metadata": {
            "tags": []
          },
          "execution_count": 86
        },
        {
          "output_type": "display_data",
          "data": {
            "image/png": "[encoded data removed]",
            "text/plain": [
              "<Figure size 576x396 with 1 Axes>"
            ]
          },
          "metadata": {
            "tags": []
          }
        }
      ]
    },
    {
      "metadata": {
        "id": "HyNJLkXvV84d",
        "colab_type": "text"
      },
      "cell_type": "markdown",
      "source": [
        "### Print Accuracy of Linear Regression Model"
      ]
    },
    {
      "metadata": {
        "id": "nwq5XCBjTNaa",
        "colab_type": "code",
        "outputId": "a93f4c2d-9cf5-4e04-9430-112f5113b003",
        "colab": {
          "base_uri": "https://localhost:8080/",
          "height": 34
        }
      },
      "cell_type": "code",
      "source": [
        "model.score(X_test, y_test)"
      ],
      "execution_count": 87,
      "outputs": [
        {
          "output_type": "execute_result",
          "data": {
            "text/plain": [
              "0.38720938283701933"
            ]
          },
          "metadata": {
            "tags": []
          },
          "execution_count": 87
        }
      ]
    },
    {
      "metadata": {
        "id": "murvDIL6-uXC",
        "colab_type": "text"
      },
      "cell_type": "markdown",
      "source": [
        "# Conclusion"
      ]
    },
    {
      "metadata": {
        "id": "WZ6UlKuU-yGW",
        "colab_type": "text"
      },
      "cell_type": "markdown",
      "source": [
        "From the box plots of position vs weight, it is evident that position is a factor that determines weight. So, upon including position in our model, our model's prediction accuracy has improved from 33% to 38%, which is 12.5% increase. \n",
        "\n",
        "Even then we were able to account for only 38% weight of the players. May be the weight is not explained only by height and position. There are many other factors that would accout for weight which are not in our database."
      ]
    }
  ]
}
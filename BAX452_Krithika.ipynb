{
  "nbformat": 4,
  "nbformat_minor": 0,
  "metadata": {
    "colab": {
      "name": "BAX452-Discussion1.ipynb",
      "version": "0.3.2",
      "provenance": [],
      "include_colab_link": true
    },
    "kernelspec": {
      "name": "python3",
      "display_name": "Python 3"
    }
  },
  "cells": [
    {
      "cell_type": "markdown",
      "metadata": {
        "id": "view-in-github",
        "colab_type": "text"
      },
      "source": [
        "<a href=\"https://colab.research.google.com/github/krithikaceg/functional_intro_to_python/blob/master/BAX452_Krithika.ipynb\" target=\"_parent\"><img src=\"https://colab.research.google.com/assets/colab-badge.svg\" alt=\"Open In Colab\"/></a>"
      ]
    },
    {
      "metadata": {
        "id": "SrApp-RcH13Z",
        "colab_type": "text"
      },
      "cell_type": "markdown",
      "source": [
        "## Discussion #1"
      ]
    },
    {
      "metadata": {
        "id": "qI2nzyyxIDSm",
        "colab_type": "text"
      },
      "cell_type": "markdown",
      "source": [
        "* 10 Points Total\n",
        "  * 5 points for modifying this colab notebook and making it does something different\n",
        "  * 5 points for responding to at least one other person's changes.\n",
        "  \n",
        "**Grading Criteria**\n",
        "\n",
        "* Creativity\n",
        "* Complexity\n",
        "* Relevant\n",
        "* Software Quality\n",
        "* Did you test your link in \"incognito mode\" so other can open it?"
      ]
    },
    {
      "metadata": {
        "id": "uFXnlSzOKxC_",
        "colab_type": "text"
      },
      "cell_type": "markdown",
      "source": [
        "### Installing textblob"
      ]
    },
    {
      "metadata": {
        "id": "gHhz7655K1f5",
        "colab_type": "code",
        "colab": {}
      },
      "cell_type": "code",
      "source": [
        "!pip -q install -U textblob"
      ],
      "execution_count": 0,
      "outputs": []
    },
    {
      "metadata": {
        "id": "_m6ZSeE0JNZu",
        "colab_type": "text"
      },
      "cell_type": "markdown",
      "source": [
        "### Making a Pandas DataFrame from scratch"
      ]
    },
    {
      "metadata": {
        "id": "cKDMQwU0Hvey",
        "colab_type": "code",
        "colab": {}
      },
      "cell_type": "code",
      "source": [
        "import pandas as pd\n",
        "import re\n",
        "from textblob import TextBlob\n",
        "import nltk\n",
        "nltk.download()"
      ],
      "execution_count": 0,
      "outputs": []
    },
    {
      "metadata": {
        "id": "P2jRChieJYzl",
        "colab_type": "code",
        "colab": {}
      },
      "cell_type": "code",
      "source": [
        "df = pd.DataFrame(\n",
        "  {\"SentimentRaw\": [\"I am very Angry\",\n",
        "                    \"We are very Happy\",\n",
        "                    \"It is raining in Seattle\"]}\n",
        ")"
      ],
      "execution_count": 0,
      "outputs": []
    },
    {
      "metadata": {
        "id": "ErJerROzJ0Mc",
        "colab_type": "text"
      },
      "cell_type": "markdown",
      "source": [
        "### Creating an Apply function"
      ]
    },
    {
      "metadata": {
        "id": "iBBUxcZ_KFIp",
        "colab_type": "code",
        "colab": {}
      },
      "cell_type": "code",
      "source": [
        "def create_sentiment(row):\n",
        "  \"This operates on a row of a Pandas DataFrame and performs an action\"\n",
        "  \n",
        "  result = TextBlob(row)\n",
        "  print(f\"Raw phrase: {row}, sentiment: {result.sentiment}\")\n",
        "  return result.sentiment\n",
        " \n",
        "  "
      ],
      "execution_count": 0,
      "outputs": []
    },
    {
      "metadata": {
        "id": "9jK6JOE2Mn0V",
        "colab_type": "text"
      },
      "cell_type": "markdown",
      "source": [
        "### Apply to DataFrame"
      ]
    },
    {
      "metadata": {
        "id": "zqg5djAiMuCv",
        "colab_type": "code",
        "outputId": "ac686fda-04f2-4148-df8f-78f74badb3ad",
        "colab": {
          "base_uri": "https://localhost:8080/",
          "height": 68
        }
      },
      "cell_type": "code",
      "source": [
        "df[\"SpanishSentimentRaw\"] = df[\"SentimentRaw\"].apply(create_sentiment)"
      ],
      "execution_count": 61,
      "outputs": [
        {
          "output_type": "stream",
          "text": [
            "Raw phrase: I am very Angry, sentiment: Sentiment(polarity=-0.65, subjectivity=1.0)\n",
            "Raw phrase: We are very Happy, sentiment: Sentiment(polarity=1.0, subjectivity=1.0)\n",
            "Raw phrase: It is raining in Seattle, sentiment: Sentiment(polarity=0.0, subjectivity=0.0)\n"
          ],
          "name": "stdout"
        }
      ]
    },
    {
      "metadata": {
        "id": "gx-LCj4CM6on",
        "colab_type": "code",
        "colab": {}
      },
      "cell_type": "code",
      "source": [
        ""
      ],
      "execution_count": 0,
      "outputs": []
    }
  ]
}
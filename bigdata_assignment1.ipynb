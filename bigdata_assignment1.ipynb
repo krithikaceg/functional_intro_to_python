{
  "nbformat": 4,
  "nbformat_minor": 0,
  "metadata": {
    "colab": {
      "name": "bigdata-assignment1.ipynb",
      "version": "0.3.2",
      "provenance": [],
      "include_colab_link": true
    },
    "kernelspec": {
      "name": "python3",
      "display_name": "Python 3"
    }
  },
  "cells": [
    {
      "cell_type": "markdown",
      "metadata": {
        "id": "view-in-github",
        "colab_type": "text"
      },
      "source": [
        "<a href=\"https://colab.research.google.com/github/krithikaceg/functional_intro_to_python/blob/master/bigdata_assignment1.ipynb\" target=\"_parent\"><img src=\"https://colab.research.google.com/assets/colab-badge.svg\" alt=\"Open In Colab\"/></a>"
      ]
    },
    {
      "metadata": {
        "id": "ihd8V9YBkvrW",
        "colab_type": "code",
        "colab": {}
      },
      "cell_type": "code",
      "source": [
        "import itertools\n",
        "from functools import reduce"
      ],
      "execution_count": 0,
      "outputs": []
    },
    {
      "metadata": {
        "id": "u8m6m8qMkzwL",
        "colab_type": "code",
        "colab": {}
      },
      "cell_type": "code",
      "source": [
        "book_by_page =[[\"mary\", \"lamb\", \"had\", \"a\"], [\"little\", \"lamb\"]]\n"
      ],
      "execution_count": 0,
      "outputs": []
    },
    {
      "metadata": {
        "id": "U4LH_POmmlFK",
        "colab_type": "code",
        "colab": {
          "base_uri": "https://localhost:8080/",
          "height": 119
        },
        "outputId": "58212018-23eb-41e6-a379-6c0968b48f09"
      },
      "cell_type": "code",
      "source": [
        "mr=map(lambda li1: map(lambda x, y: {x:[y+1]}, li1[1], [li1[0]]*len(li1[1])), list(enumerate(book_by_page)))\n",
        "\n",
        "def reduce_func(x, y):\n",
        " try:\n",
        "          x[list(y.keys())[0]]+=list(y.values())[0]\n",
        " except KeyError:\n",
        "  \n",
        "  x[list(y.keys())[0]]=list(y.values())[0]\n",
        " return x\n",
        "\n",
        "mr1 = list(itertools.chain(*mr))\n",
        "mr1"
      ],
      "execution_count": 5,
      "outputs": [
        {
          "output_type": "execute_result",
          "data": {
            "text/plain": [
              "[{'mary': [1]},\n",
              " {'lamb': [1]},\n",
              " {'had': [1]},\n",
              " {'a': [1]},\n",
              " {'little': [2]},\n",
              " {'lamb': [2]}]"
            ]
          },
          "metadata": {
            "tags": []
          },
          "execution_count": 5
        }
      ]
    },
    {
      "metadata": {
        "id": "AwzjFMOamy3o",
        "colab_type": "code",
        "colab": {
          "base_uri": "https://localhost:8080/",
          "height": 34
        },
        "outputId": "c261ebb5-31d5-4d5a-e186-e997979fddac"
      },
      "cell_type": "code",
      "source": [
        "reduce(reduce_func, mr1)"
      ],
      "execution_count": 6,
      "outputs": [
        {
          "output_type": "execute_result",
          "data": {
            "text/plain": [
              "{'a': [1], 'had': [1], 'lamb': [1, 2], 'little': [2], 'mary': [1]}"
            ]
          },
          "metadata": {
            "tags": []
          },
          "execution_count": 6
        }
      ]
    },
    {
      "metadata": {
        "id": "Zm_GgaYzpIY8",
        "colab_type": "code",
        "colab": {
          "base_uri": "https://localhost:8080/",
          "height": 34
        },
        "outputId": "1f142702-c1cd-4914-eb68-741e3729200c"
      },
      "cell_type": "code",
      "source": [
        "li1=[1, 2, 3]; li2=[3, 4, 5]; print(li1+li2)"
      ],
      "execution_count": 66,
      "outputs": [
        {
          "output_type": "stream",
          "text": [
            "[1, 2, 3, 3, 4, 5]\n"
          ],
          "name": "stdout"
        }
      ]
    }
  ]
}